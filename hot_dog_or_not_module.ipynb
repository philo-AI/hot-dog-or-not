{
 "cells": [
  {
   "cell_type": "code",
   "execution_count": 1,
   "metadata": {},
   "outputs": [],
   "source": [
    "from tensorflow import keras as ks\n",
    "import tensorflow as tf\n"
   ]
  },
  {
   "cell_type": "code",
   "execution_count": null,
   "metadata": {},
   "outputs": [],
   "source": [
    "train = ks.preprocessing.image_dataset_from_directory('',#the place of the hotdog file,\n",
    "labels = 'inferred',\n",
    "label_mode='binary',\n",
    "color_mode=\"rgb\",\n",
    "batch_size=100 , # changed from 2 to 80000\n",
    "image_size=(200,200),\n",
    "shuffle=True,\n",
    "seed=42                                                                                 \n",
    ")\n"
   ]
  },
  {
   "cell_type": "code",
   "execution_count": null,
   "metadata": {},
   "outputs": [],
   "source": [
    "test = ks.preprocessing.image_dataset_from_directory('',    # the place test folder,\n",
    "labels = 'inferred',\n",
    "label_mode='binary',\n",
    "color_mode=\"rgb\",\n",
    "batch_size=100 , # changed from 2 to 80000\n",
    "image_size=(200,200),\n",
    "shuffle=True,\n",
    "seed=42                                                                                 \n",
    ")\n"
   ]
  },
  {
   "cell_type": "code",
   "execution_count": 3,
   "metadata": {},
   "outputs": [],
   "source": [
    "model = ks.Sequential([\n",
    "    ks.layers.Conv2D(16,(3,3),activation=\"relu\", input_shape = (300,300,3)),\n",
    "    ks.layers.MaxPool2D(2,2),\n",
    "\n",
    "    ks.layers.Conv2D(32,(3,3),activation=\"relu\"),\n",
    "    ks.layers.MaxPool2D(2,2),\n",
    "\n",
    "    ks.layers.Conv2D(64,(3,3),activation=\"relu\"),\n",
    "    ks.layers.MaxPool2D(2,2),\n",
    "\n",
    "    ks.layers.Conv2D(128,(3,3),activation=\"relu\"),\n",
    "    ks.layers.MaxPool2D(2,2),\n",
    "\n",
    "    ks.layers.Conv2D(264,(3,3),activation=\"relu\"),\n",
    "    ks.layers.MaxPool2D(2,2),\n",
    "\n",
    "    ks.layers.Conv2D(516,(3,3),activation=\"relu\"),\n",
    "    ks.layers.MaxPool2D(2,2),\n",
    "\n",
    "\n",
    "    ks.layers.Flatten(),\n",
    "    ks.layers.Dense(100, activation=\"relu\"),\n",
    "\n",
    "    ks.layers.Dense(100, activation=\"relu\"),\n",
    "\n",
    "    ks.layers.Dense(100, activation=\"relu\"),\n",
    "\n",
    "    ks.layers.Dense(1 , activation=\"sigmoid\") \n",
    "])\n"
   ]
  },
  {
   "cell_type": "code",
   "execution_count": null,
   "metadata": {},
   "outputs": [],
   "source": [
    "model.compile(\n",
    "    loss=ks.losses.SparseCategoricalCrossentropy(),\n",
    "    optimizer=ks.optimizers.Adam(learning_rate=0.003),\n",
    "    metrics=[\"acurracy\"]\n",
    ")"
   ]
  },
  {
   "cell_type": "code",
   "execution_count": null,
   "metadata": {},
   "outputs": [],
   "source": [
    "model.fit(\n",
    "    train,epochs = 10 , validation_data=test , validation_batch_size=100\n",
    ")"
   ]
  }
 ],
 "metadata": {
  "kernelspec": {
   "display_name": "Python 3",
   "language": "python",
   "name": "python3"
  },
  "language_info": {
   "codemirror_mode": {
    "name": "ipython",
    "version": 3
   },
   "file_extension": ".py",
   "mimetype": "text/x-python",
   "name": "python",
   "nbconvert_exporter": "python",
   "pygments_lexer": "ipython3",
   "version": "3.11.4"
  },
  "orig_nbformat": 4
 },
 "nbformat": 4,
 "nbformat_minor": 2
}
